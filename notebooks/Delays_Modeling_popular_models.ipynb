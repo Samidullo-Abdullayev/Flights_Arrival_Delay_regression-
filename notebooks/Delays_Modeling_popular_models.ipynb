{
  "nbformat": 4,
  "nbformat_minor": 0,
  "metadata": {
    "colab": {
      "provenance": [],
      "toc_visible": true
    },
    "kernelspec": {
      "name": "python3",
      "display_name": "Python 3"
    },
    "language_info": {
      "name": "python"
    }
  },
  "cells": [
    {
      "cell_type": "markdown",
      "source": [
        "# Install libraries"
      ],
      "metadata": {
        "id": "NbymnX6L8KAK"
      }
    },
    {
      "cell_type": "code",
      "source": [
        "# install libraries\n",
        "!pip install catboost\n"
      ],
      "metadata": {
        "colab": {
          "base_uri": "https://localhost:8080/"
        },
        "collapsed": true,
        "id": "_RI07ijh_CYC",
        "outputId": "5501b524-7f10-4a06-cc9f-ba49a9d540f7"
      },
      "execution_count": null,
      "outputs": [
        {
          "output_type": "stream",
          "name": "stdout",
          "text": [
            "Requirement already satisfied: catboost in /usr/local/lib/python3.10/dist-packages (1.2.5)\n",
            "Requirement already satisfied: graphviz in /usr/local/lib/python3.10/dist-packages (from catboost) (0.20.3)\n",
            "Requirement already satisfied: matplotlib in /usr/local/lib/python3.10/dist-packages (from catboost) (3.7.1)\n",
            "Requirement already satisfied: numpy>=1.16.0 in /usr/local/lib/python3.10/dist-packages (from catboost) (1.25.2)\n",
            "Requirement already satisfied: pandas>=0.24 in /usr/local/lib/python3.10/dist-packages (from catboost) (2.0.3)\n",
            "Requirement already satisfied: scipy in /usr/local/lib/python3.10/dist-packages (from catboost) (1.11.4)\n",
            "Requirement already satisfied: plotly in /usr/local/lib/python3.10/dist-packages (from catboost) (5.15.0)\n",
            "Requirement already satisfied: six in /usr/local/lib/python3.10/dist-packages (from catboost) (1.16.0)\n",
            "Requirement already satisfied: python-dateutil>=2.8.2 in /usr/local/lib/python3.10/dist-packages (from pandas>=0.24->catboost) (2.8.2)\n",
            "Requirement already satisfied: pytz>=2020.1 in /usr/local/lib/python3.10/dist-packages (from pandas>=0.24->catboost) (2023.4)\n",
            "Requirement already satisfied: tzdata>=2022.1 in /usr/local/lib/python3.10/dist-packages (from pandas>=0.24->catboost) (2024.1)\n",
            "Requirement already satisfied: contourpy>=1.0.1 in /usr/local/lib/python3.10/dist-packages (from matplotlib->catboost) (1.2.1)\n",
            "Requirement already satisfied: cycler>=0.10 in /usr/local/lib/python3.10/dist-packages (from matplotlib->catboost) (0.12.1)\n",
            "Requirement already satisfied: fonttools>=4.22.0 in /usr/local/lib/python3.10/dist-packages (from matplotlib->catboost) (4.53.0)\n",
            "Requirement already satisfied: kiwisolver>=1.0.1 in /usr/local/lib/python3.10/dist-packages (from matplotlib->catboost) (1.4.5)\n",
            "Requirement already satisfied: packaging>=20.0 in /usr/local/lib/python3.10/dist-packages (from matplotlib->catboost) (24.0)\n",
            "Requirement already satisfied: pillow>=6.2.0 in /usr/local/lib/python3.10/dist-packages (from matplotlib->catboost) (9.4.0)\n",
            "Requirement already satisfied: pyparsing>=2.3.1 in /usr/local/lib/python3.10/dist-packages (from matplotlib->catboost) (3.1.2)\n",
            "Requirement already satisfied: tenacity>=6.2.0 in /usr/local/lib/python3.10/dist-packages (from plotly->catboost) (8.3.0)\n"
          ]
        }
      ]
    },
    {
      "cell_type": "code",
      "execution_count": null,
      "metadata": {
        "id": "ZMjRUuKO0L0n"
      },
      "outputs": [],
      "source": [
        "import numpy as np\n",
        "import pandas as pd\n",
        "import seaborn as sns\n",
        "import matplotlib.pyplot as plt\n",
        "import matplotlib.colors as mcolors\n",
        "import seaborn as sns\n",
        "import plotly.express as px\n",
        "from IPython.display import display\n",
        "\n",
        "# score metrics and splitting libraries\n",
        "from sklearn.model_selection import train_test_split\n",
        "from sklearn.metrics import mean_absolute_percentage_error, r2_score\n",
        "from sklearn.feature_selection import SelectFromModel\n",
        "from sklearn.preprocessing import StandardScaler\n",
        "from sklearn.model_selection import GridSearchCV, RandomizedSearchCV\n",
        "from sklearn.pipeline import Pipeline\n",
        "\n",
        "# ML algorithms from sklearn\n",
        "from sklearn.linear_model import LinearRegression, Ridge, Lasso\n",
        "from sklearn.preprocessing import PolynomialFeatures\n",
        "from sklearn.svm import SVR\n",
        "from sklearn.tree import DecisionTreeRegressor\n",
        "from sklearn.ensemble import RandomForestRegressor, VotingRegressor\n",
        "\n",
        "# extreme algorithms\n",
        "from xgboost import XGBRFRegressor\n",
        "from catboost import CatBoostRegressor\n",
        "from lightgbm import LGBMRegressor\n",
        "\n",
        "# warning turn off\n",
        "import warnings\n",
        "warnings.filterwarnings('ignore')"
      ]
    },
    {
      "cell_type": "code",
      "source": [
        "#set display max column to see all column\n",
        "pd.set_option(\"display.max_columns\", None)\n",
        "pd.get_option(\"display.max_columns\")\n",
        "\n",
        "#set display max column to see all column\n",
        "pd.set_option(\"display.max_rows\", 150)\n",
        "pd.get_option(\"display.max_rows\")"
      ],
      "metadata": {
        "colab": {
          "base_uri": "https://localhost:8080/"
        },
        "id": "L8DPUrEQ0UJH",
        "outputId": "f83f2d51-0e20-46a2-f218-149bd7ed2d5d"
      },
      "execution_count": null,
      "outputs": [
        {
          "output_type": "execute_result",
          "data": {
            "text/plain": [
              "150"
            ]
          },
          "metadata": {},
          "execution_count": 4
        }
      ]
    },
    {
      "cell_type": "markdown",
      "source": [
        "# Load Datasets"
      ],
      "metadata": {
        "id": "7zcvvwgS8QSk"
      }
    },
    {
      "cell_type": "code",
      "source": [
        "# load datasets\n",
        "\n",
        "train = pd.read_csv('/content/drive/MyDrive/Machine Learning 1 - final Project/cleaned_train.csv')\n",
        "test = pd.read_csv('/content/drive/MyDrive/Machine Learning 1 - final Project/cleaned_test.csv')\n",
        "\n",
        "train.head()"
      ],
      "metadata": {
        "colab": {
          "base_uri": "https://localhost:8080/",
          "height": 226
        },
        "id": "9dUhuXOICOr5",
        "outputId": "272ec7f1-f088-4165-d92f-899f33e56b3b"
      },
      "execution_count": null,
      "outputs": [
        {
          "output_type": "execute_result",
          "data": {
            "text/plain": [
              "   Weekday  Month_of_Year  Day_of_Month  Departure_State  Arrival_State  \\\n",
              "0        2              6            21                3              3   \n",
              "1        3              1             5               22             50   \n",
              "2        2              3            22                8             44   \n",
              "3        4              7            14               49             32   \n",
              "4        1              5            30                4              4   \n",
              "\n",
              "   Flight_Cancelled  Departure_Delay  Arrival_Delay  Taxi_Out_Time  \\\n",
              "0                 0         0.088687      -4.178483           16.0   \n",
              "1                 0        13.027852       5.042185           34.0   \n",
              "2                 0        -1.802698      -0.206932           10.0   \n",
              "3                 0        13.027852      14.006092           23.0   \n",
              "4                 0        -2.181755     -14.067374           10.0   \n",
              "\n",
              "   Taxi_In_Time  Flight_Diverted  Flight_Duration  Flight_Distance  \\\n",
              "0           5.0                0             23.0            110.0   \n",
              "1           5.0                0             36.0            119.0   \n",
              "2          11.0                0            125.0            641.0   \n",
              "3           7.0                0            130.0            867.0   \n",
              "4           5.0                0             58.0            417.0   \n",
              "\n",
              "   Origin_Temperature  Destination_Temperature  Origin_Wind_Speed  \\\n",
              "0           13.279939                20.470690          18.045064   \n",
              "1           17.816202                13.967273          21.606228   \n",
              "2           24.562566                14.509228          24.946489   \n",
              "3            8.817992                10.866812          17.426336   \n",
              "4            9.360464                15.977111          19.001179   \n",
              "\n",
              "   Destination_Wind_Speed  Origin_Precipitation  Destination_Precipitation  \\\n",
              "0               12.910265                   0.0                        0.0   \n",
              "1               17.976362                   0.0                        0.1   \n",
              "2               22.630553                   0.0                        0.0   \n",
              "3               17.401007                   0.0                        0.0   \n",
              "4               16.884960                   0.0                        0.0   \n",
              "\n",
              "   Scheduled_Departure_Time_Minutes  Scheduled_Arrival_Time_Minutes  \\\n",
              "0                               736                             784   \n",
              "1                              1185                            1255   \n",
              "2                               420                             564   \n",
              "3                              1290                            1439   \n",
              "4                               470                             555   \n",
              "\n",
              "   Actual_Departure_Time_Minutes  \n",
              "0                            736  \n",
              "1                           1185  \n",
              "2                            418  \n",
              "3                           1293  \n",
              "4                            468  "
            ],
            "text/html": [
              "\n",
              "  <div id=\"df-4caf2d7e-a77a-41d4-8eab-76eaf2621816\" class=\"colab-df-container\">\n",
              "    <div>\n",
              "<style scoped>\n",
              "    .dataframe tbody tr th:only-of-type {\n",
              "        vertical-align: middle;\n",
              "    }\n",
              "\n",
              "    .dataframe tbody tr th {\n",
              "        vertical-align: top;\n",
              "    }\n",
              "\n",
              "    .dataframe thead th {\n",
              "        text-align: right;\n",
              "    }\n",
              "</style>\n",
              "<table border=\"1\" class=\"dataframe\">\n",
              "  <thead>\n",
              "    <tr style=\"text-align: right;\">\n",
              "      <th></th>\n",
              "      <th>Weekday</th>\n",
              "      <th>Month_of_Year</th>\n",
              "      <th>Day_of_Month</th>\n",
              "      <th>Departure_State</th>\n",
              "      <th>Arrival_State</th>\n",
              "      <th>Flight_Cancelled</th>\n",
              "      <th>Departure_Delay</th>\n",
              "      <th>Arrival_Delay</th>\n",
              "      <th>Taxi_Out_Time</th>\n",
              "      <th>Taxi_In_Time</th>\n",
              "      <th>Flight_Diverted</th>\n",
              "      <th>Flight_Duration</th>\n",
              "      <th>Flight_Distance</th>\n",
              "      <th>Origin_Temperature</th>\n",
              "      <th>Destination_Temperature</th>\n",
              "      <th>Origin_Wind_Speed</th>\n",
              "      <th>Destination_Wind_Speed</th>\n",
              "      <th>Origin_Precipitation</th>\n",
              "      <th>Destination_Precipitation</th>\n",
              "      <th>Scheduled_Departure_Time_Minutes</th>\n",
              "      <th>Scheduled_Arrival_Time_Minutes</th>\n",
              "      <th>Actual_Departure_Time_Minutes</th>\n",
              "    </tr>\n",
              "  </thead>\n",
              "  <tbody>\n",
              "    <tr>\n",
              "      <th>0</th>\n",
              "      <td>2</td>\n",
              "      <td>6</td>\n",
              "      <td>21</td>\n",
              "      <td>3</td>\n",
              "      <td>3</td>\n",
              "      <td>0</td>\n",
              "      <td>0.088687</td>\n",
              "      <td>-4.178483</td>\n",
              "      <td>16.0</td>\n",
              "      <td>5.0</td>\n",
              "      <td>0</td>\n",
              "      <td>23.0</td>\n",
              "      <td>110.0</td>\n",
              "      <td>13.279939</td>\n",
              "      <td>20.470690</td>\n",
              "      <td>18.045064</td>\n",
              "      <td>12.910265</td>\n",
              "      <td>0.0</td>\n",
              "      <td>0.0</td>\n",
              "      <td>736</td>\n",
              "      <td>784</td>\n",
              "      <td>736</td>\n",
              "    </tr>\n",
              "    <tr>\n",
              "      <th>1</th>\n",
              "      <td>3</td>\n",
              "      <td>1</td>\n",
              "      <td>5</td>\n",
              "      <td>22</td>\n",
              "      <td>50</td>\n",
              "      <td>0</td>\n",
              "      <td>13.027852</td>\n",
              "      <td>5.042185</td>\n",
              "      <td>34.0</td>\n",
              "      <td>5.0</td>\n",
              "      <td>0</td>\n",
              "      <td>36.0</td>\n",
              "      <td>119.0</td>\n",
              "      <td>17.816202</td>\n",
              "      <td>13.967273</td>\n",
              "      <td>21.606228</td>\n",
              "      <td>17.976362</td>\n",
              "      <td>0.0</td>\n",
              "      <td>0.1</td>\n",
              "      <td>1185</td>\n",
              "      <td>1255</td>\n",
              "      <td>1185</td>\n",
              "    </tr>\n",
              "    <tr>\n",
              "      <th>2</th>\n",
              "      <td>2</td>\n",
              "      <td>3</td>\n",
              "      <td>22</td>\n",
              "      <td>8</td>\n",
              "      <td>44</td>\n",
              "      <td>0</td>\n",
              "      <td>-1.802698</td>\n",
              "      <td>-0.206932</td>\n",
              "      <td>10.0</td>\n",
              "      <td>11.0</td>\n",
              "      <td>0</td>\n",
              "      <td>125.0</td>\n",
              "      <td>641.0</td>\n",
              "      <td>24.562566</td>\n",
              "      <td>14.509228</td>\n",
              "      <td>24.946489</td>\n",
              "      <td>22.630553</td>\n",
              "      <td>0.0</td>\n",
              "      <td>0.0</td>\n",
              "      <td>420</td>\n",
              "      <td>564</td>\n",
              "      <td>418</td>\n",
              "    </tr>\n",
              "    <tr>\n",
              "      <th>3</th>\n",
              "      <td>4</td>\n",
              "      <td>7</td>\n",
              "      <td>14</td>\n",
              "      <td>49</td>\n",
              "      <td>32</td>\n",
              "      <td>0</td>\n",
              "      <td>13.027852</td>\n",
              "      <td>14.006092</td>\n",
              "      <td>23.0</td>\n",
              "      <td>7.0</td>\n",
              "      <td>0</td>\n",
              "      <td>130.0</td>\n",
              "      <td>867.0</td>\n",
              "      <td>8.817992</td>\n",
              "      <td>10.866812</td>\n",
              "      <td>17.426336</td>\n",
              "      <td>17.401007</td>\n",
              "      <td>0.0</td>\n",
              "      <td>0.0</td>\n",
              "      <td>1290</td>\n",
              "      <td>1439</td>\n",
              "      <td>1293</td>\n",
              "    </tr>\n",
              "    <tr>\n",
              "      <th>4</th>\n",
              "      <td>1</td>\n",
              "      <td>5</td>\n",
              "      <td>30</td>\n",
              "      <td>4</td>\n",
              "      <td>4</td>\n",
              "      <td>0</td>\n",
              "      <td>-2.181755</td>\n",
              "      <td>-14.067374</td>\n",
              "      <td>10.0</td>\n",
              "      <td>5.0</td>\n",
              "      <td>0</td>\n",
              "      <td>58.0</td>\n",
              "      <td>417.0</td>\n",
              "      <td>9.360464</td>\n",
              "      <td>15.977111</td>\n",
              "      <td>19.001179</td>\n",
              "      <td>16.884960</td>\n",
              "      <td>0.0</td>\n",
              "      <td>0.0</td>\n",
              "      <td>470</td>\n",
              "      <td>555</td>\n",
              "      <td>468</td>\n",
              "    </tr>\n",
              "  </tbody>\n",
              "</table>\n",
              "</div>\n",
              "    <div class=\"colab-df-buttons\">\n",
              "\n",
              "  <div class=\"colab-df-container\">\n",
              "    <button class=\"colab-df-convert\" onclick=\"convertToInteractive('df-4caf2d7e-a77a-41d4-8eab-76eaf2621816')\"\n",
              "            title=\"Convert this dataframe to an interactive table.\"\n",
              "            style=\"display:none;\">\n",
              "\n",
              "  <svg xmlns=\"http://www.w3.org/2000/svg\" height=\"24px\" viewBox=\"0 -960 960 960\">\n",
              "    <path d=\"M120-120v-720h720v720H120Zm60-500h600v-160H180v160Zm220 220h160v-160H400v160Zm0 220h160v-160H400v160ZM180-400h160v-160H180v160Zm440 0h160v-160H620v160ZM180-180h160v-160H180v160Zm440 0h160v-160H620v160Z\"/>\n",
              "  </svg>\n",
              "    </button>\n",
              "\n",
              "  <style>\n",
              "    .colab-df-container {\n",
              "      display:flex;\n",
              "      gap: 12px;\n",
              "    }\n",
              "\n",
              "    .colab-df-convert {\n",
              "      background-color: #E8F0FE;\n",
              "      border: none;\n",
              "      border-radius: 50%;\n",
              "      cursor: pointer;\n",
              "      display: none;\n",
              "      fill: #1967D2;\n",
              "      height: 32px;\n",
              "      padding: 0 0 0 0;\n",
              "      width: 32px;\n",
              "    }\n",
              "\n",
              "    .colab-df-convert:hover {\n",
              "      background-color: #E2EBFA;\n",
              "      box-shadow: 0px 1px 2px rgba(60, 64, 67, 0.3), 0px 1px 3px 1px rgba(60, 64, 67, 0.15);\n",
              "      fill: #174EA6;\n",
              "    }\n",
              "\n",
              "    .colab-df-buttons div {\n",
              "      margin-bottom: 4px;\n",
              "    }\n",
              "\n",
              "    [theme=dark] .colab-df-convert {\n",
              "      background-color: #3B4455;\n",
              "      fill: #D2E3FC;\n",
              "    }\n",
              "\n",
              "    [theme=dark] .colab-df-convert:hover {\n",
              "      background-color: #434B5C;\n",
              "      box-shadow: 0px 1px 3px 1px rgba(0, 0, 0, 0.15);\n",
              "      filter: drop-shadow(0px 1px 2px rgba(0, 0, 0, 0.3));\n",
              "      fill: #FFFFFF;\n",
              "    }\n",
              "  </style>\n",
              "\n",
              "    <script>\n",
              "      const buttonEl =\n",
              "        document.querySelector('#df-4caf2d7e-a77a-41d4-8eab-76eaf2621816 button.colab-df-convert');\n",
              "      buttonEl.style.display =\n",
              "        google.colab.kernel.accessAllowed ? 'block' : 'none';\n",
              "\n",
              "      async function convertToInteractive(key) {\n",
              "        const element = document.querySelector('#df-4caf2d7e-a77a-41d4-8eab-76eaf2621816');\n",
              "        const dataTable =\n",
              "          await google.colab.kernel.invokeFunction('convertToInteractive',\n",
              "                                                    [key], {});\n",
              "        if (!dataTable) return;\n",
              "\n",
              "        const docLinkHtml = 'Like what you see? Visit the ' +\n",
              "          '<a target=\"_blank\" href=https://colab.research.google.com/notebooks/data_table.ipynb>data table notebook</a>'\n",
              "          + ' to learn more about interactive tables.';\n",
              "        element.innerHTML = '';\n",
              "        dataTable['output_type'] = 'display_data';\n",
              "        await google.colab.output.renderOutput(dataTable, element);\n",
              "        const docLink = document.createElement('div');\n",
              "        docLink.innerHTML = docLinkHtml;\n",
              "        element.appendChild(docLink);\n",
              "      }\n",
              "    </script>\n",
              "  </div>\n",
              "\n",
              "\n",
              "<div id=\"df-276f144e-9852-4f76-b53c-937bef0607e4\">\n",
              "  <button class=\"colab-df-quickchart\" onclick=\"quickchart('df-276f144e-9852-4f76-b53c-937bef0607e4')\"\n",
              "            title=\"Suggest charts\"\n",
              "            style=\"display:none;\">\n",
              "\n",
              "<svg xmlns=\"http://www.w3.org/2000/svg\" height=\"24px\"viewBox=\"0 0 24 24\"\n",
              "     width=\"24px\">\n",
              "    <g>\n",
              "        <path d=\"M19 3H5c-1.1 0-2 .9-2 2v14c0 1.1.9 2 2 2h14c1.1 0 2-.9 2-2V5c0-1.1-.9-2-2-2zM9 17H7v-7h2v7zm4 0h-2V7h2v10zm4 0h-2v-4h2v4z\"/>\n",
              "    </g>\n",
              "</svg>\n",
              "  </button>\n",
              "\n",
              "<style>\n",
              "  .colab-df-quickchart {\n",
              "      --bg-color: #E8F0FE;\n",
              "      --fill-color: #1967D2;\n",
              "      --hover-bg-color: #E2EBFA;\n",
              "      --hover-fill-color: #174EA6;\n",
              "      --disabled-fill-color: #AAA;\n",
              "      --disabled-bg-color: #DDD;\n",
              "  }\n",
              "\n",
              "  [theme=dark] .colab-df-quickchart {\n",
              "      --bg-color: #3B4455;\n",
              "      --fill-color: #D2E3FC;\n",
              "      --hover-bg-color: #434B5C;\n",
              "      --hover-fill-color: #FFFFFF;\n",
              "      --disabled-bg-color: #3B4455;\n",
              "      --disabled-fill-color: #666;\n",
              "  }\n",
              "\n",
              "  .colab-df-quickchart {\n",
              "    background-color: var(--bg-color);\n",
              "    border: none;\n",
              "    border-radius: 50%;\n",
              "    cursor: pointer;\n",
              "    display: none;\n",
              "    fill: var(--fill-color);\n",
              "    height: 32px;\n",
              "    padding: 0;\n",
              "    width: 32px;\n",
              "  }\n",
              "\n",
              "  .colab-df-quickchart:hover {\n",
              "    background-color: var(--hover-bg-color);\n",
              "    box-shadow: 0 1px 2px rgba(60, 64, 67, 0.3), 0 1px 3px 1px rgba(60, 64, 67, 0.15);\n",
              "    fill: var(--button-hover-fill-color);\n",
              "  }\n",
              "\n",
              "  .colab-df-quickchart-complete:disabled,\n",
              "  .colab-df-quickchart-complete:disabled:hover {\n",
              "    background-color: var(--disabled-bg-color);\n",
              "    fill: var(--disabled-fill-color);\n",
              "    box-shadow: none;\n",
              "  }\n",
              "\n",
              "  .colab-df-spinner {\n",
              "    border: 2px solid var(--fill-color);\n",
              "    border-color: transparent;\n",
              "    border-bottom-color: var(--fill-color);\n",
              "    animation:\n",
              "      spin 1s steps(1) infinite;\n",
              "  }\n",
              "\n",
              "  @keyframes spin {\n",
              "    0% {\n",
              "      border-color: transparent;\n",
              "      border-bottom-color: var(--fill-color);\n",
              "      border-left-color: var(--fill-color);\n",
              "    }\n",
              "    20% {\n",
              "      border-color: transparent;\n",
              "      border-left-color: var(--fill-color);\n",
              "      border-top-color: var(--fill-color);\n",
              "    }\n",
              "    30% {\n",
              "      border-color: transparent;\n",
              "      border-left-color: var(--fill-color);\n",
              "      border-top-color: var(--fill-color);\n",
              "      border-right-color: var(--fill-color);\n",
              "    }\n",
              "    40% {\n",
              "      border-color: transparent;\n",
              "      border-right-color: var(--fill-color);\n",
              "      border-top-color: var(--fill-color);\n",
              "    }\n",
              "    60% {\n",
              "      border-color: transparent;\n",
              "      border-right-color: var(--fill-color);\n",
              "    }\n",
              "    80% {\n",
              "      border-color: transparent;\n",
              "      border-right-color: var(--fill-color);\n",
              "      border-bottom-color: var(--fill-color);\n",
              "    }\n",
              "    90% {\n",
              "      border-color: transparent;\n",
              "      border-bottom-color: var(--fill-color);\n",
              "    }\n",
              "  }\n",
              "</style>\n",
              "\n",
              "  <script>\n",
              "    async function quickchart(key) {\n",
              "      const quickchartButtonEl =\n",
              "        document.querySelector('#' + key + ' button');\n",
              "      quickchartButtonEl.disabled = true;  // To prevent multiple clicks.\n",
              "      quickchartButtonEl.classList.add('colab-df-spinner');\n",
              "      try {\n",
              "        const charts = await google.colab.kernel.invokeFunction(\n",
              "            'suggestCharts', [key], {});\n",
              "      } catch (error) {\n",
              "        console.error('Error during call to suggestCharts:', error);\n",
              "      }\n",
              "      quickchartButtonEl.classList.remove('colab-df-spinner');\n",
              "      quickchartButtonEl.classList.add('colab-df-quickchart-complete');\n",
              "    }\n",
              "    (() => {\n",
              "      let quickchartButtonEl =\n",
              "        document.querySelector('#df-276f144e-9852-4f76-b53c-937bef0607e4 button');\n",
              "      quickchartButtonEl.style.display =\n",
              "        google.colab.kernel.accessAllowed ? 'block' : 'none';\n",
              "    })();\n",
              "  </script>\n",
              "</div>\n",
              "    </div>\n",
              "  </div>\n"
            ],
            "application/vnd.google.colaboratory.intrinsic+json": {
              "type": "dataframe",
              "variable_name": "train"
            }
          },
          "metadata": {},
          "execution_count": 5
        }
      ]
    },
    {
      "cell_type": "markdown",
      "source": [
        "We split the train, contains target variable, to train and validation to train and test models performance and accuracy."
      ],
      "metadata": {
        "id": "BJflncQv6f3U"
      }
    },
    {
      "cell_type": "code",
      "source": [
        "# split train to train set and validation sets, use 75 - 25 % approach\n",
        "split_size = int(train.shape[0] * 0.75)\n",
        "\n",
        "df_train, df_test = train.iloc[:split_size, :], train.iloc[split_size:,  :]\n",
        "\n",
        "print(f'Train size : {df_train.shape}')\n",
        "print(f'Test size : {df_test.shape}')"
      ],
      "metadata": {
        "colab": {
          "base_uri": "https://localhost:8080/"
        },
        "id": "QNFdPF7fjlvP",
        "outputId": "ab4ba288-68b3-47e6-b056-47bed057ecc1"
      },
      "execution_count": null,
      "outputs": [
        {
          "output_type": "stream",
          "name": "stdout",
          "text": [
            "Train size : (1065015, 22)\n",
            "Test size : (355006, 22)\n"
          ]
        }
      ]
    },
    {
      "cell_type": "markdown",
      "source": [
        "# Parameter Tuning"
      ],
      "metadata": {
        "id": "8Yv1MSlN65I5"
      }
    },
    {
      "cell_type": "markdown",
      "source": [
        "When working with a large dataset like ours (1 million rows), finding the best parameters for regression models while ensuring efficient model training and evaluation cost to much computation and time.\n",
        "\n",
        "To handle this issue we use **Sampling for Hyperparameter Tuning**. It means that instead of using the entire dataset for hyperparameter tuning, we can use a representative sample of data. This will significantly reduce computation time and allow us to perform thorough hyperparameter tuning."
      ],
      "metadata": {
        "id": "le3FiPcJ67bn"
      }
    },
    {
      "cell_type": "code",
      "source": [
        "# use 15% of the data for tuning\n",
        "sample_size = int(0.15 * len(df_train))\n",
        "df_sample = df_train.sample(n = sample_size, random_state = 42)\n",
        "\n",
        "X_sample = df_sample.drop(columns=['Arrival_Delay'])\n",
        "y_sample = df_sample['Arrival_Delay']"
      ],
      "metadata": {
        "id": "vJTMyott603-"
      },
      "execution_count": null,
      "outputs": []
    },
    {
      "cell_type": "markdown",
      "source": [
        "## Parameters for baseline models"
      ],
      "metadata": {
        "id": "7TG66bv_CDUb"
      }
    },
    {
      "cell_type": "code",
      "source": [
        "# Define the models and parameter grids\n",
        "param_grids = {\n",
        "    'LinearRegression': {\n",
        "        'poly__degree': [1, 2],  # Polynomial features of degree 1, 2, and 3\n",
        "        'lr__fit_intercept': [True, False]\n",
        "    },\n",
        "    'Ridge': {\n",
        "        'ridge__alpha': [0.01, 0.1, 1.0, 10.0],\n",
        "        'ridge__fit_intercept': [True, False],\n",
        "        'ridge__solver': ['auto', 'svd', 'cholesky']\n",
        "    },\n",
        "    'Lasso': {\n",
        "        'alpha': [0.01, 0.1, 1.0, 10.0],\n",
        "        'fit_intercept': [True, False],\n",
        "        'max_iter': [2500, 5000, 15000],\n",
        "        'selection': ['cyclic', 'random']\n",
        "    },\n",
        "    'SVR': {\n",
        "        'svr__C': [0.1, 1.0, 10.0, 15.0],\n",
        "        'svr__epsilon': [0.01, 0.1, 0.5],\n",
        "        'svr__kernel': ['linear', 'poly', 'rbf'],\n",
        "        'svr__degree': [2, 3, 4],  # Polynomial degree for 'poly' kernel\n",
        "        'svr__gamma': ['scale', 'auto']\n",
        "    },\n",
        "    'DecisionTree': {\n",
        "        'max_depth': [None, 10, 20, 30],\n",
        "        'min_samples_split': [2, 5, 10],\n",
        "        'min_samples_leaf': [1, 2, 4],\n",
        "        'max_features': [None, 'auto', 'sqrt', 'log2']\n",
        "    },\n",
        "    'RandomForest': {\n",
        "        'n_estimators': [100, 200],\n",
        "        'max_depth': [None, 10, 20],\n",
        "        'min_samples_split': [2, 5],\n",
        "        'min_samples_leaf': [1, 2],\n",
        "        'max_features': ['auto', 'sqrt', 'log2'],\n",
        "        'bootstrap': [True, False]\n",
        "    }\n",
        "}\n"
      ],
      "metadata": {
        "id": "INBI7TTe6TTd"
      },
      "execution_count": null,
      "outputs": []
    },
    {
      "cell_type": "markdown",
      "source": [
        "We use Pipline to optimize working environmont"
      ],
      "metadata": {
        "id": "1dDKTS2ICPxF"
      }
    },
    {
      "cell_type": "code",
      "source": [
        "# Define the models and parameter grids\n",
        "models = {\n",
        "    'LinearRegression': Pipeline([('scaler', StandardScaler()), ('poly', PolynomialFeatures()), ('lr', LinearRegression())]),\n",
        "    'Ridge': Pipeline([('scaler', StandardScaler()), ('ridge', Ridge())]),\n",
        "    'Lasso': Lasso(),\n",
        "    'DecisionTree': DecisionTreeRegressor(),\n",
        "    'RandomForest': RandomForestRegressor()\n",
        "}\n"
      ],
      "metadata": {
        "id": "8wiv5JqZCN3z"
      },
      "execution_count": null,
      "outputs": []
    },
    {
      "cell_type": "code",
      "source": [
        "# define scorer metric\n",
        "from sklearn.metrics import make_scorer, mean_absolute_percentage_error\n",
        "\n",
        "scorer = make_scorer(mean_absolute_percentage_error, greater_is_better= False)"
      ],
      "metadata": {
        "id": "aeebizJG9fUO"
      },
      "execution_count": null,
      "outputs": []
    },
    {
      "cell_type": "code",
      "source": [
        "\n",
        "def hyperparameter_tuning(model, param_grid, X, y, cv=5, verbose = 4, scoring= scorer):\n",
        "    search = GridSearchCV(estimator=model, param_grid=param_grid, cv=cv, scoring=scoring, n_jobs=-1, verbose = verbose, return_train_score=True)\n",
        "    search.fit(X, y)\n",
        "    print(f\"Best Parameters: {search.best_params_}\")\n",
        "    print(f\"Best Score: {search.best_score_}\\n\")\n",
        "    return search.best_estimator_\n",
        "\n",
        "# Tune and Evaluate Models on Sample\n",
        "results = {}\n",
        "for model_name, model in models.items():\n",
        "    print(f\"Training {model_name}...\\n\")\n",
        "    best_model = hyperparameter_tuning(model, param_grids[model_name], X_sample, y_sample)\n",
        "    results[model_name] = best_model\n"
      ],
      "metadata": {
        "colab": {
          "base_uri": "https://localhost:8080/",
          "height": 829
        },
        "id": "c2tsZkrICb-I",
        "outputId": "7dbc118c-001d-4048-bc51-2080b0c1dada"
      },
      "execution_count": null,
      "outputs": [
        {
          "metadata": {
            "tags": null
          },
          "name": "stdout",
          "output_type": "stream",
          "text": [
            "Training LinearRegression...\n",
            "\n",
            "Fitting 5 folds for each of 4 candidates, totalling 20 fits\n",
            "Best Parameters: {'lr__fit_intercept': False, 'poly__degree': 2}\n",
            "Best Score: -25.91650346059341\n",
            "\n",
            "Training Ridge...\n",
            "\n",
            "Fitting 5 folds for each of 24 candidates, totalling 120 fits\n",
            "Best Parameters: {'ridge__alpha': 10.0, 'ridge__fit_intercept': False, 'ridge__solver': 'auto'}\n",
            "Best Score: -21.383131661796064\n",
            "\n",
            "Training Lasso...\n",
            "\n",
            "Fitting 5 folds for each of 48 candidates, totalling 240 fits\n",
            "Best Parameters: {'alpha': 10.0, 'fit_intercept': False, 'max_iter': 5000, 'selection': 'random'}\n",
            "Best Score: -24.45490380149892\n",
            "\n",
            "Training DecisionTree...\n",
            "\n",
            "Fitting 5 folds for each of 144 candidates, totalling 720 fits\n",
            "Best Parameters: {'max_depth': 10, 'max_features': 'sqrt', 'min_samples_leaf': 2, 'min_samples_split': 10}\n",
            "Best Score: -11.924132227411528\n",
            "\n",
            "Training RandomForest...\n",
            "\n",
            "Fitting 5 folds for each of 144 candidates, totalling 720 fits\n"
          ]
        },
        {
          "output_type": "error",
          "ename": "KeyboardInterrupt",
          "evalue": "",
          "traceback": [
            "\u001b[0;31m---------------------------------------------------------------------------\u001b[0m",
            "\u001b[0;31mKeyboardInterrupt\u001b[0m                         Traceback (most recent call last)",
            "\u001b[0;32m<ipython-input-45-4803d8be4d32>\u001b[0m in \u001b[0;36m<cell line: 10>\u001b[0;34m()\u001b[0m\n\u001b[1;32m     10\u001b[0m \u001b[0;32mfor\u001b[0m \u001b[0mmodel_name\u001b[0m\u001b[0;34m,\u001b[0m \u001b[0mmodel\u001b[0m \u001b[0;32min\u001b[0m \u001b[0mmodels\u001b[0m\u001b[0;34m.\u001b[0m\u001b[0mitems\u001b[0m\u001b[0;34m(\u001b[0m\u001b[0;34m)\u001b[0m\u001b[0;34m:\u001b[0m\u001b[0;34m\u001b[0m\u001b[0;34m\u001b[0m\u001b[0m\n\u001b[1;32m     11\u001b[0m     \u001b[0mprint\u001b[0m\u001b[0;34m(\u001b[0m\u001b[0;34mf\"Training {model_name}...\\n\"\u001b[0m\u001b[0;34m)\u001b[0m\u001b[0;34m\u001b[0m\u001b[0;34m\u001b[0m\u001b[0m\n\u001b[0;32m---> 12\u001b[0;31m     \u001b[0mbest_model\u001b[0m \u001b[0;34m=\u001b[0m \u001b[0mhyperparameter_tuning\u001b[0m\u001b[0;34m(\u001b[0m\u001b[0mmodel\u001b[0m\u001b[0;34m,\u001b[0m \u001b[0mparam_grids\u001b[0m\u001b[0;34m[\u001b[0m\u001b[0mmodel_name\u001b[0m\u001b[0;34m]\u001b[0m\u001b[0;34m,\u001b[0m \u001b[0mX_sample\u001b[0m\u001b[0;34m,\u001b[0m \u001b[0my_sample\u001b[0m\u001b[0;34m)\u001b[0m\u001b[0;34m\u001b[0m\u001b[0;34m\u001b[0m\u001b[0m\n\u001b[0m\u001b[1;32m     13\u001b[0m     \u001b[0mresults\u001b[0m\u001b[0;34m[\u001b[0m\u001b[0mmodel_name\u001b[0m\u001b[0;34m]\u001b[0m \u001b[0;34m=\u001b[0m \u001b[0mbest_model\u001b[0m\u001b[0;34m\u001b[0m\u001b[0;34m\u001b[0m\u001b[0m\n",
            "\u001b[0;32m<ipython-input-45-4803d8be4d32>\u001b[0m in \u001b[0;36mhyperparameter_tuning\u001b[0;34m(model, param_grid, X, y, cv, verbose, scoring)\u001b[0m\n\u001b[1;32m      1\u001b[0m \u001b[0;32mdef\u001b[0m \u001b[0mhyperparameter_tuning\u001b[0m\u001b[0;34m(\u001b[0m\u001b[0mmodel\u001b[0m\u001b[0;34m,\u001b[0m \u001b[0mparam_grid\u001b[0m\u001b[0;34m,\u001b[0m \u001b[0mX\u001b[0m\u001b[0;34m,\u001b[0m \u001b[0my\u001b[0m\u001b[0;34m,\u001b[0m \u001b[0mcv\u001b[0m\u001b[0;34m=\u001b[0m\u001b[0;36m5\u001b[0m\u001b[0;34m,\u001b[0m \u001b[0mverbose\u001b[0m \u001b[0;34m=\u001b[0m \u001b[0;36m4\u001b[0m\u001b[0;34m,\u001b[0m \u001b[0mscoring\u001b[0m\u001b[0;34m=\u001b[0m \u001b[0mscorer\u001b[0m\u001b[0;34m)\u001b[0m\u001b[0;34m:\u001b[0m\u001b[0;34m\u001b[0m\u001b[0;34m\u001b[0m\u001b[0m\n\u001b[1;32m      2\u001b[0m     \u001b[0msearch\u001b[0m \u001b[0;34m=\u001b[0m \u001b[0mGridSearchCV\u001b[0m\u001b[0;34m(\u001b[0m\u001b[0mestimator\u001b[0m\u001b[0;34m=\u001b[0m\u001b[0mmodel\u001b[0m\u001b[0;34m,\u001b[0m \u001b[0mparam_grid\u001b[0m\u001b[0;34m=\u001b[0m\u001b[0mparam_grid\u001b[0m\u001b[0;34m,\u001b[0m \u001b[0mcv\u001b[0m\u001b[0;34m=\u001b[0m\u001b[0mcv\u001b[0m\u001b[0;34m,\u001b[0m \u001b[0mscoring\u001b[0m\u001b[0;34m=\u001b[0m\u001b[0mscoring\u001b[0m\u001b[0;34m,\u001b[0m \u001b[0mn_jobs\u001b[0m\u001b[0;34m=\u001b[0m\u001b[0;34m-\u001b[0m\u001b[0;36m1\u001b[0m\u001b[0;34m,\u001b[0m \u001b[0mverbose\u001b[0m \u001b[0;34m=\u001b[0m \u001b[0mverbose\u001b[0m\u001b[0;34m,\u001b[0m \u001b[0mreturn_train_score\u001b[0m\u001b[0;34m=\u001b[0m\u001b[0;32mTrue\u001b[0m\u001b[0;34m)\u001b[0m\u001b[0;34m\u001b[0m\u001b[0;34m\u001b[0m\u001b[0m\n\u001b[0;32m----> 3\u001b[0;31m     \u001b[0msearch\u001b[0m\u001b[0;34m.\u001b[0m\u001b[0mfit\u001b[0m\u001b[0;34m(\u001b[0m\u001b[0mX\u001b[0m\u001b[0;34m,\u001b[0m \u001b[0my\u001b[0m\u001b[0;34m)\u001b[0m\u001b[0;34m\u001b[0m\u001b[0;34m\u001b[0m\u001b[0m\n\u001b[0m\u001b[1;32m      4\u001b[0m     \u001b[0mprint\u001b[0m\u001b[0;34m(\u001b[0m\u001b[0;34mf\"Best Parameters: {search.best_params_}\"\u001b[0m\u001b[0;34m)\u001b[0m\u001b[0;34m\u001b[0m\u001b[0;34m\u001b[0m\u001b[0m\n\u001b[1;32m      5\u001b[0m     \u001b[0mprint\u001b[0m\u001b[0;34m(\u001b[0m\u001b[0;34mf\"Best Score: {search.best_score_}\\n\"\u001b[0m\u001b[0;34m)\u001b[0m\u001b[0;34m\u001b[0m\u001b[0;34m\u001b[0m\u001b[0m\n",
            "\u001b[0;32m/usr/local/lib/python3.10/dist-packages/sklearn/model_selection/_search.py\u001b[0m in \u001b[0;36mfit\u001b[0;34m(self, X, y, groups, **fit_params)\u001b[0m\n\u001b[1;32m    872\u001b[0m                 \u001b[0;32mreturn\u001b[0m \u001b[0mresults\u001b[0m\u001b[0;34m\u001b[0m\u001b[0;34m\u001b[0m\u001b[0m\n\u001b[1;32m    873\u001b[0m \u001b[0;34m\u001b[0m\u001b[0m\n\u001b[0;32m--> 874\u001b[0;31m             \u001b[0mself\u001b[0m\u001b[0;34m.\u001b[0m\u001b[0m_run_search\u001b[0m\u001b[0;34m(\u001b[0m\u001b[0mevaluate_candidates\u001b[0m\u001b[0;34m)\u001b[0m\u001b[0;34m\u001b[0m\u001b[0;34m\u001b[0m\u001b[0m\n\u001b[0m\u001b[1;32m    875\u001b[0m \u001b[0;34m\u001b[0m\u001b[0m\n\u001b[1;32m    876\u001b[0m             \u001b[0;31m# multimetric is determined here because in the case of a callable\u001b[0m\u001b[0;34m\u001b[0m\u001b[0;34m\u001b[0m\u001b[0m\n",
            "\u001b[0;32m/usr/local/lib/python3.10/dist-packages/sklearn/model_selection/_search.py\u001b[0m in \u001b[0;36m_run_search\u001b[0;34m(self, evaluate_candidates)\u001b[0m\n\u001b[1;32m   1386\u001b[0m     \u001b[0;32mdef\u001b[0m \u001b[0m_run_search\u001b[0m\u001b[0;34m(\u001b[0m\u001b[0mself\u001b[0m\u001b[0;34m,\u001b[0m \u001b[0mevaluate_candidates\u001b[0m\u001b[0;34m)\u001b[0m\u001b[0;34m:\u001b[0m\u001b[0;34m\u001b[0m\u001b[0;34m\u001b[0m\u001b[0m\n\u001b[1;32m   1387\u001b[0m         \u001b[0;34m\"\"\"Search all candidates in param_grid\"\"\"\u001b[0m\u001b[0;34m\u001b[0m\u001b[0;34m\u001b[0m\u001b[0m\n\u001b[0;32m-> 1388\u001b[0;31m         \u001b[0mevaluate_candidates\u001b[0m\u001b[0;34m(\u001b[0m\u001b[0mParameterGrid\u001b[0m\u001b[0;34m(\u001b[0m\u001b[0mself\u001b[0m\u001b[0;34m.\u001b[0m\u001b[0mparam_grid\u001b[0m\u001b[0;34m)\u001b[0m\u001b[0;34m)\u001b[0m\u001b[0;34m\u001b[0m\u001b[0;34m\u001b[0m\u001b[0m\n\u001b[0m\u001b[1;32m   1389\u001b[0m \u001b[0;34m\u001b[0m\u001b[0m\n\u001b[1;32m   1390\u001b[0m \u001b[0;34m\u001b[0m\u001b[0m\n",
            "\u001b[0;32m/usr/local/lib/python3.10/dist-packages/sklearn/model_selection/_search.py\u001b[0m in \u001b[0;36mevaluate_candidates\u001b[0;34m(candidate_params, cv, more_results)\u001b[0m\n\u001b[1;32m    819\u001b[0m                     )\n\u001b[1;32m    820\u001b[0m \u001b[0;34m\u001b[0m\u001b[0m\n\u001b[0;32m--> 821\u001b[0;31m                 out = parallel(\n\u001b[0m\u001b[1;32m    822\u001b[0m                     delayed(_fit_and_score)(\n\u001b[1;32m    823\u001b[0m                         \u001b[0mclone\u001b[0m\u001b[0;34m(\u001b[0m\u001b[0mbase_estimator\u001b[0m\u001b[0;34m)\u001b[0m\u001b[0;34m,\u001b[0m\u001b[0;34m\u001b[0m\u001b[0;34m\u001b[0m\u001b[0m\n",
            "\u001b[0;32m/usr/local/lib/python3.10/dist-packages/sklearn/utils/parallel.py\u001b[0m in \u001b[0;36m__call__\u001b[0;34m(self, iterable)\u001b[0m\n\u001b[1;32m     61\u001b[0m             \u001b[0;32mfor\u001b[0m \u001b[0mdelayed_func\u001b[0m\u001b[0;34m,\u001b[0m \u001b[0margs\u001b[0m\u001b[0;34m,\u001b[0m \u001b[0mkwargs\u001b[0m \u001b[0;32min\u001b[0m \u001b[0miterable\u001b[0m\u001b[0;34m\u001b[0m\u001b[0;34m\u001b[0m\u001b[0m\n\u001b[1;32m     62\u001b[0m         )\n\u001b[0;32m---> 63\u001b[0;31m         \u001b[0;32mreturn\u001b[0m \u001b[0msuper\u001b[0m\u001b[0;34m(\u001b[0m\u001b[0;34m)\u001b[0m\u001b[0;34m.\u001b[0m\u001b[0m__call__\u001b[0m\u001b[0;34m(\u001b[0m\u001b[0miterable_with_config\u001b[0m\u001b[0;34m)\u001b[0m\u001b[0;34m\u001b[0m\u001b[0;34m\u001b[0m\u001b[0m\n\u001b[0m\u001b[1;32m     64\u001b[0m \u001b[0;34m\u001b[0m\u001b[0m\n\u001b[1;32m     65\u001b[0m \u001b[0;34m\u001b[0m\u001b[0m\n",
            "\u001b[0;32m/usr/local/lib/python3.10/dist-packages/joblib/parallel.py\u001b[0m in \u001b[0;36m__call__\u001b[0;34m(self, iterable)\u001b[0m\n\u001b[1;32m   2005\u001b[0m         \u001b[0mnext\u001b[0m\u001b[0;34m(\u001b[0m\u001b[0moutput\u001b[0m\u001b[0;34m)\u001b[0m\u001b[0;34m\u001b[0m\u001b[0;34m\u001b[0m\u001b[0m\n\u001b[1;32m   2006\u001b[0m \u001b[0;34m\u001b[0m\u001b[0m\n\u001b[0;32m-> 2007\u001b[0;31m         \u001b[0;32mreturn\u001b[0m \u001b[0moutput\u001b[0m \u001b[0;32mif\u001b[0m \u001b[0mself\u001b[0m\u001b[0;34m.\u001b[0m\u001b[0mreturn_generator\u001b[0m \u001b[0;32melse\u001b[0m \u001b[0mlist\u001b[0m\u001b[0;34m(\u001b[0m\u001b[0moutput\u001b[0m\u001b[0;34m)\u001b[0m\u001b[0;34m\u001b[0m\u001b[0;34m\u001b[0m\u001b[0m\n\u001b[0m\u001b[1;32m   2008\u001b[0m \u001b[0;34m\u001b[0m\u001b[0m\n\u001b[1;32m   2009\u001b[0m     \u001b[0;32mdef\u001b[0m \u001b[0m__repr__\u001b[0m\u001b[0;34m(\u001b[0m\u001b[0mself\u001b[0m\u001b[0;34m)\u001b[0m\u001b[0;34m:\u001b[0m\u001b[0;34m\u001b[0m\u001b[0;34m\u001b[0m\u001b[0m\n",
            "\u001b[0;32m/usr/local/lib/python3.10/dist-packages/joblib/parallel.py\u001b[0m in \u001b[0;36m_get_outputs\u001b[0;34m(self, iterator, pre_dispatch)\u001b[0m\n\u001b[1;32m   1648\u001b[0m \u001b[0;34m\u001b[0m\u001b[0m\n\u001b[1;32m   1649\u001b[0m             \u001b[0;32mwith\u001b[0m \u001b[0mself\u001b[0m\u001b[0;34m.\u001b[0m\u001b[0m_backend\u001b[0m\u001b[0;34m.\u001b[0m\u001b[0mretrieval_context\u001b[0m\u001b[0;34m(\u001b[0m\u001b[0;34m)\u001b[0m\u001b[0;34m:\u001b[0m\u001b[0;34m\u001b[0m\u001b[0;34m\u001b[0m\u001b[0m\n\u001b[0;32m-> 1650\u001b[0;31m                 \u001b[0;32myield\u001b[0m \u001b[0;32mfrom\u001b[0m \u001b[0mself\u001b[0m\u001b[0;34m.\u001b[0m\u001b[0m_retrieve\u001b[0m\u001b[0;34m(\u001b[0m\u001b[0;34m)\u001b[0m\u001b[0;34m\u001b[0m\u001b[0;34m\u001b[0m\u001b[0m\n\u001b[0m\u001b[1;32m   1651\u001b[0m \u001b[0;34m\u001b[0m\u001b[0m\n\u001b[1;32m   1652\u001b[0m         \u001b[0;32mexcept\u001b[0m \u001b[0mGeneratorExit\u001b[0m\u001b[0;34m:\u001b[0m\u001b[0;34m\u001b[0m\u001b[0;34m\u001b[0m\u001b[0m\n",
            "\u001b[0;32m/usr/local/lib/python3.10/dist-packages/joblib/parallel.py\u001b[0m in \u001b[0;36m_retrieve\u001b[0;34m(self)\u001b[0m\n\u001b[1;32m   1760\u001b[0m                 (self._jobs[0].get_status(\n\u001b[1;32m   1761\u001b[0m                     timeout=self.timeout) == TASK_PENDING)):\n\u001b[0;32m-> 1762\u001b[0;31m                 \u001b[0mtime\u001b[0m\u001b[0;34m.\u001b[0m\u001b[0msleep\u001b[0m\u001b[0;34m(\u001b[0m\u001b[0;36m0.01\u001b[0m\u001b[0;34m)\u001b[0m\u001b[0;34m\u001b[0m\u001b[0;34m\u001b[0m\u001b[0m\n\u001b[0m\u001b[1;32m   1763\u001b[0m                 \u001b[0;32mcontinue\u001b[0m\u001b[0;34m\u001b[0m\u001b[0;34m\u001b[0m\u001b[0m\n\u001b[1;32m   1764\u001b[0m \u001b[0;34m\u001b[0m\u001b[0m\n",
            "\u001b[0;31mKeyboardInterrupt\u001b[0m: "
          ]
        }
      ]
    },
    {
      "cell_type": "markdown",
      "source": [
        "Let's see results for 4 models. Running random forest took so many time, that's why I decided to use same parameter as decision tree for it"
      ],
      "metadata": {
        "id": "-t34vlRoHdVB"
      }
    },
    {
      "cell_type": "code",
      "source": [
        "results = {'LinearRegression': Pipeline(steps=[('scaler', StandardScaler()), ('poly', PolynomialFeatures()),\n",
        "                 ('lr', LinearRegression(fit_intercept=False))]),\n",
        "          'Ridge': Pipeline(steps=[('scaler', StandardScaler()),\n",
        "                          ('ridge', Ridge(alpha=10.0, fit_intercept=False))]),\n",
        "          'Lasso': Lasso(alpha=10.0, fit_intercept=False, max_iter=5000, selection='random'),\n",
        "          'DecisionTree': DecisionTreeRegressor(max_depth=10, max_features='sqrt', min_samples_leaf=2,\n",
        "                                min_samples_split=10)}\n",
        "\n",
        "results [ 'RandomForest'] : RandomForestRegressor(max_depth=10, max_features='sqrt', min_samples_leaf=2,\n",
        "                       min_samples_split=10)\n",
        "\n",
        "results"
      ],
      "metadata": {
        "colab": {
          "base_uri": "https://localhost:8080/"
        },
        "id": "laq7tD5sZAYO",
        "outputId": "84a5765c-7a73-4827-a158-18d76f9e606c"
      },
      "execution_count": null,
      "outputs": [
        {
          "output_type": "execute_result",
          "data": {
            "text/plain": [
              "{'LinearRegression': Pipeline(steps=[('scaler', StandardScaler()), ('poly', PolynomialFeatures()),\n",
              "                 ('lr', LinearRegression(fit_intercept=False))]),\n",
              " 'Ridge': Pipeline(steps=[('scaler', StandardScaler()),\n",
              "                 ('ridge', Ridge(alpha=10.0, fit_intercept=False))]),\n",
              " 'Lasso': Lasso(alpha=10.0, fit_intercept=False, max_iter=5000, selection='random'),\n",
              " 'DecisionTree': DecisionTreeRegressor(max_depth=10, max_features='sqrt', min_samples_leaf=2,\n",
              "                       min_samples_split=10)}"
            ]
          },
          "metadata": {},
          "execution_count": 47
        }
      ]
    },
    {
      "cell_type": "code",
      "source": [
        "from sklearn.metrics import mean_absolute_percentage_error\n",
        "\n",
        "# Define your train_test_split function and load your data\n",
        "X_train, X_test, y_train, y_test = df_train.drop(columns = 'Arrival_Delay'), df_test.drop(columns = 'Arrival_Delay'), df_train['Arrival_Delay'], df_test['Arrival_Delay']\n",
        "\n",
        "# Train and test each model\n",
        "mape_scores = {}\n",
        "for model_name, model in models.items():\n",
        "    print(f\"Training and testing {model_name}...\")\n",
        "    model.fit(X_train, y_train)\n",
        "    y_pred = model.predict(X_test)\n",
        "    mape = mean_absolute_percentage_error(y_test, y_pred)\n",
        "    mape_scores[model_name] = mape\n",
        "    print(f\"MAPE for {model_name}: {mape}\\n\\n\")\n",
        "\n",
        "# Find the best model based on MAPE score\n",
        "best_model_name = min(mape_scores, key=mape_scores.get)\n",
        "best_mape_score = mape_scores[best_model_name]\n",
        "\n",
        "print(f\"Best Model: {best_model_name}\")\n",
        "print(f\"MAPE Score for Best Model: {best_mape_score}\")\n"
      ],
      "metadata": {
        "colab": {
          "base_uri": "https://localhost:8080/"
        },
        "id": "zDOnEjAYKCNj",
        "outputId": "ec57895e-5971-4500-824c-09de916b82b5"
      },
      "execution_count": null,
      "outputs": [
        {
          "output_type": "stream",
          "name": "stdout",
          "text": [
            "Training and testing LinearRegression...\n",
            "MAPE for LinearRegression: 18.94046517262583\n",
            "\n",
            "\n",
            "Training and testing Ridge...\n",
            "MAPE for Ridge: 20.702301646853755\n",
            "\n",
            "\n",
            "Training and testing Lasso...\n",
            "MAPE for Lasso: 20.412186498854584\n",
            "\n",
            "\n",
            "Training and testing DecisionTree...\n",
            "MAPE for DecisionTree: 18.126833483470953\n",
            "\n",
            "\n",
            "Training and testing RandomForest...\n",
            "MAPE for RandomForest: 14.392364099286581\n",
            "\n",
            "\n",
            "Best Model: RandomForest\n",
            "MAPE Score for Best Model: 14.392364099286581\n"
          ]
        }
      ]
    },
    {
      "cell_type": "code",
      "source": [
        "model_params = {}\n",
        "for model_name, model in models.items():\n",
        "  print(f'{model_name}\\'s the best parameters : {model.get_params()}')\n",
        "  model_params[model_name] = model.get_params()\n",
        "\n",
        "model_params"
      ],
      "metadata": {
        "colab": {
          "base_uri": "https://localhost:8080/"
        },
        "id": "mmYbIUNmKCFz",
        "outputId": "dc854469-ca5c-4e0e-a49f-e001f666de6a"
      },
      "execution_count": null,
      "outputs": [
        {
          "output_type": "stream",
          "name": "stdout",
          "text": [
            "LinearRegression's the best parameters : {'memory': None, 'steps': [('scaler', StandardScaler()), ('poly', PolynomialFeatures()), ('lr', LinearRegression())], 'verbose': False, 'scaler': StandardScaler(), 'poly': PolynomialFeatures(), 'lr': LinearRegression(), 'scaler__copy': True, 'scaler__with_mean': True, 'scaler__with_std': True, 'poly__degree': 2, 'poly__include_bias': True, 'poly__interaction_only': False, 'poly__order': 'C', 'lr__copy_X': True, 'lr__fit_intercept': True, 'lr__n_jobs': None, 'lr__positive': False}\n",
            "Ridge's the best parameters : {'memory': None, 'steps': [('scaler', StandardScaler()), ('ridge', Ridge())], 'verbose': False, 'scaler': StandardScaler(), 'ridge': Ridge(), 'scaler__copy': True, 'scaler__with_mean': True, 'scaler__with_std': True, 'ridge__alpha': 1.0, 'ridge__copy_X': True, 'ridge__fit_intercept': True, 'ridge__max_iter': None, 'ridge__positive': False, 'ridge__random_state': None, 'ridge__solver': 'auto', 'ridge__tol': 0.0001}\n",
            "Lasso's the best parameters : {'alpha': 1.0, 'copy_X': True, 'fit_intercept': True, 'max_iter': 1000, 'positive': False, 'precompute': False, 'random_state': None, 'selection': 'cyclic', 'tol': 0.0001, 'warm_start': False}\n",
            "DecisionTree's the best parameters : {'ccp_alpha': 0.0, 'criterion': 'squared_error', 'max_depth': None, 'max_features': None, 'max_leaf_nodes': None, 'min_impurity_decrease': 0.0, 'min_samples_leaf': 1, 'min_samples_split': 2, 'min_weight_fraction_leaf': 0.0, 'random_state': None, 'splitter': 'best'}\n",
            "RandomForest's the best parameters : {'bootstrap': True, 'ccp_alpha': 0.0, 'criterion': 'squared_error', 'max_depth': None, 'max_features': 1.0, 'max_leaf_nodes': None, 'max_samples': None, 'min_impurity_decrease': 0.0, 'min_samples_leaf': 1, 'min_samples_split': 2, 'min_weight_fraction_leaf': 0.0, 'n_estimators': 100, 'n_jobs': None, 'oob_score': False, 'random_state': None, 'verbose': 0, 'warm_start': False}\n"
          ]
        },
        {
          "output_type": "execute_result",
          "data": {
            "text/plain": [
              "{'LinearRegression': {'memory': None,\n",
              "  'steps': [('scaler', StandardScaler()),\n",
              "   ('poly', PolynomialFeatures()),\n",
              "   ('lr', LinearRegression())],\n",
              "  'verbose': False,\n",
              "  'scaler': StandardScaler(),\n",
              "  'poly': PolynomialFeatures(),\n",
              "  'lr': LinearRegression(),\n",
              "  'scaler__copy': True,\n",
              "  'scaler__with_mean': True,\n",
              "  'scaler__with_std': True,\n",
              "  'poly__degree': 2,\n",
              "  'poly__include_bias': True,\n",
              "  'poly__interaction_only': False,\n",
              "  'poly__order': 'C',\n",
              "  'lr__copy_X': True,\n",
              "  'lr__fit_intercept': True,\n",
              "  'lr__n_jobs': None,\n",
              "  'lr__positive': False},\n",
              " 'Ridge': {'memory': None,\n",
              "  'steps': [('scaler', StandardScaler()), ('ridge', Ridge())],\n",
              "  'verbose': False,\n",
              "  'scaler': StandardScaler(),\n",
              "  'ridge': Ridge(),\n",
              "  'scaler__copy': True,\n",
              "  'scaler__with_mean': True,\n",
              "  'scaler__with_std': True,\n",
              "  'ridge__alpha': 1.0,\n",
              "  'ridge__copy_X': True,\n",
              "  'ridge__fit_intercept': True,\n",
              "  'ridge__max_iter': None,\n",
              "  'ridge__positive': False,\n",
              "  'ridge__random_state': None,\n",
              "  'ridge__solver': 'auto',\n",
              "  'ridge__tol': 0.0001},\n",
              " 'Lasso': {'alpha': 1.0,\n",
              "  'copy_X': True,\n",
              "  'fit_intercept': True,\n",
              "  'max_iter': 1000,\n",
              "  'positive': False,\n",
              "  'precompute': False,\n",
              "  'random_state': None,\n",
              "  'selection': 'cyclic',\n",
              "  'tol': 0.0001,\n",
              "  'warm_start': False},\n",
              " 'DecisionTree': {'ccp_alpha': 0.0,\n",
              "  'criterion': 'squared_error',\n",
              "  'max_depth': None,\n",
              "  'max_features': None,\n",
              "  'max_leaf_nodes': None,\n",
              "  'min_impurity_decrease': 0.0,\n",
              "  'min_samples_leaf': 1,\n",
              "  'min_samples_split': 2,\n",
              "  'min_weight_fraction_leaf': 0.0,\n",
              "  'random_state': None,\n",
              "  'splitter': 'best'},\n",
              " 'RandomForest': {'bootstrap': True,\n",
              "  'ccp_alpha': 0.0,\n",
              "  'criterion': 'squared_error',\n",
              "  'max_depth': None,\n",
              "  'max_features': 1.0,\n",
              "  'max_leaf_nodes': None,\n",
              "  'max_samples': None,\n",
              "  'min_impurity_decrease': 0.0,\n",
              "  'min_samples_leaf': 1,\n",
              "  'min_samples_split': 2,\n",
              "  'min_weight_fraction_leaf': 0.0,\n",
              "  'n_estimators': 100,\n",
              "  'n_jobs': None,\n",
              "  'oob_score': False,\n",
              "  'random_state': None,\n",
              "  'verbose': 0,\n",
              "  'warm_start': False}}"
            ]
          },
          "metadata": {},
          "execution_count": 50
        }
      ]
    },
    {
      "cell_type": "code",
      "source": [
        "model_params  = {'LinearRegression': {'memory': None,\n",
        "  'steps': [('scaler', StandardScaler()),\n",
        "   ('poly', PolynomialFeatures()),\n",
        "   ('lr', LinearRegression())],\n",
        "  'verbose': False,\n",
        "  'scaler': StandardScaler(),\n",
        "  'poly': PolynomialFeatures(),\n",
        "  'lr': LinearRegression(),\n",
        "  'scaler__copy': True,\n",
        "  'scaler__with_mean': True,\n",
        "  'scaler__with_std': True,\n",
        "  'poly__degree': 2,\n",
        "  'poly__include_bias': True,\n",
        "  'poly__interaction_only': False,\n",
        "  'poly__order': 'C',\n",
        "  'lr__copy_X': True,\n",
        "  'lr__fit_intercept': True,\n",
        "  'lr__n_jobs': None,\n",
        "  'lr__positive': False},\n",
        "\n",
        " 'Ridge': {'memory': None,\n",
        "  'steps': [('scaler', StandardScaler()), ('ridge', Ridge())],\n",
        "  'verbose': False,\n",
        "  'scaler': StandardScaler(),\n",
        "  'ridge': Ridge(),\n",
        "  'scaler__copy': True,\n",
        "  'scaler__with_mean': True,\n",
        "  'scaler__with_std': True,\n",
        "  'ridge__alpha': 1.0,\n",
        "  'ridge__copy_X': True,\n",
        "  'ridge__fit_intercept': True,\n",
        "  'ridge__max_iter': None,\n",
        "  'ridge__positive': False,\n",
        "  'ridge__random_state': None,\n",
        "  'ridge__solver': 'auto',\n",
        "  'ridge__tol': 0.0001},\n",
        "\n",
        " 'Lasso': {'alpha': 1.0,\n",
        "  'copy_X': True,\n",
        "  'fit_intercept': True,\n",
        "  'max_iter': 1000,\n",
        "  'positive': False,\n",
        "  'precompute': False,\n",
        "  'random_state': None,\n",
        "  'selection': 'cyclic',\n",
        "  'tol': 0.0001,\n",
        "  'warm_start': False},\n",
        "\n",
        " 'DecisionTree': {'ccp_alpha': 0.0,\n",
        "  'criterion': 'squared_error',\n",
        "  'max_depth': None,\n",
        "  'max_features': None,\n",
        "  'max_leaf_nodes': None,\n",
        "  'min_impurity_decrease': 0.0,\n",
        "  'min_samples_leaf': 1,\n",
        "  'min_samples_split': 2,\n",
        "  'min_weight_fraction_leaf': 0.0,\n",
        "  'random_state': None,\n",
        "  'splitter': 'best'},\n",
        "\n",
        " 'RandomForest': {'bootstrap': True,\n",
        "  'ccp_alpha': 0.0,\n",
        "  'criterion': 'squared_error',\n",
        "  'max_depth': None,\n",
        "  'max_features': 1.0,\n",
        "  'max_leaf_nodes': None,\n",
        "  'max_samples': None,\n",
        "  'min_impurity_decrease': 0.0,\n",
        "  'min_samples_leaf': 1,\n",
        "  'min_samples_split': 2,\n",
        "  'min_weight_fraction_leaf': 0.0,\n",
        "  'n_estimators': 100,\n",
        "  'n_jobs': None,\n",
        "  'oob_score': False,\n",
        "  'random_state': None,\n",
        "  'verbose': 0,\n",
        "  'warm_start': False}}"
      ],
      "metadata": {
        "id": "tNwMlgHLKB_a"
      },
      "execution_count": null,
      "outputs": []
    },
    {
      "cell_type": "markdown",
      "source": [
        "### Voting regressor"
      ],
      "metadata": {
        "id": "810lt7I-eaAA"
      }
    },
    {
      "cell_type": "code",
      "source": [
        "# Create individual regression models\n",
        "linear_reg = models['LinearRegression']\n",
        "svr_reg = SVR(kernel = 'rbf',  degree = 3, gamma = \"scale\", coef0 = 0.01, epsilon = 0.01)\n",
        "rf_reg = RandomForestRegressor(**model_params['RandomForest'])\n",
        "ds_reg = DecisionTreeRegressor(**model_params['DecisionTree'])\n",
        "ridge_reg = models['Ridge']\n",
        "lasso_reg = models['Lasso']"
      ],
      "metadata": {
        "id": "dwCU82yOKB8Y"
      },
      "execution_count": null,
      "outputs": []
    },
    {
      "cell_type": "code",
      "source": [
        "# Create a Voting Regressor with the individual models\n",
        "voting_reg = VotingRegressor(estimators=[\n",
        "    ('linear', linear_reg),\n",
        "    ('ridge', ridge_reg),\n",
        "    ('lasso', lasso_reg),\n",
        "    ('svr', svr_reg),\n",
        "    ('decision_tree', ds_reg),\n",
        "    ('random_forest', rf_reg)\n",
        "], n_jobs=-1)\n",
        "\n",
        "# Fit the Voting Regressor on the training data\n",
        "voting_reg.fit(X_train, y_train)\n"
      ],
      "metadata": {
        "id": "jpbC2683hKdN"
      },
      "execution_count": null,
      "outputs": []
    },
    {
      "cell_type": "code",
      "source": [],
      "metadata": {
        "id": "Yv4rZ792hKY4"
      },
      "execution_count": null,
      "outputs": []
    },
    {
      "cell_type": "code",
      "source": [],
      "metadata": {
        "id": "loIHp9AIhKUU"
      },
      "execution_count": null,
      "outputs": []
    },
    {
      "cell_type": "code",
      "source": [],
      "metadata": {
        "id": "330ghHbThKOL"
      },
      "execution_count": null,
      "outputs": []
    },
    {
      "cell_type": "code",
      "source": [],
      "metadata": {
        "id": "aN_phufjKB3R"
      },
      "execution_count": null,
      "outputs": []
    },
    {
      "cell_type": "code",
      "source": [
        "# Evaluate Best Models Using Cross-Validation on Full Dataset\n",
        "from sklearn.model_selection import cross_val_score\n",
        "\n",
        "X = df_train.drop(columns=['Arrival_Delay'])\n",
        "y = df_train['Arrival_Delay']\n",
        "\n",
        "final_results = {}\n",
        "for model_name, model in results.items():\n",
        "    scores = cross_val_score(model, X, y, cv=5, scoring = scorer, n_jobs=-1)\n",
        "    final_results[model_name] = {\n",
        "        'mean_mape': -scores.mean(),  # MAPE is inverted because greater_is_better=False\n",
        "        'std_mape': scores.std()\n",
        "    }\n",
        "    print(f\"{model_name} - Mean MAPE: {-scores.mean()}, Std MAPE: {scores.std()}\")\n",
        "\n",
        "# Print final results\n",
        "print(\"Final Results:\")\n",
        "for model_name, result in final_results.items():\n",
        "    print(f\"{model_name}: Mean MAPE = {result['mean_mape']}, Std MAPE = {result['std_mape']}\")\n"
      ],
      "metadata": {
        "id": "mf2ADsbqC_NL"
      },
      "execution_count": null,
      "outputs": []
    },
    {
      "cell_type": "code",
      "source": [],
      "metadata": {
        "id": "glQv_XfvC_Gw"
      },
      "execution_count": null,
      "outputs": []
    },
    {
      "cell_type": "code",
      "source": [],
      "metadata": {
        "id": "3CpiWM-5C_C7"
      },
      "execution_count": null,
      "outputs": []
    },
    {
      "cell_type": "code",
      "source": [],
      "metadata": {
        "id": "0qSdJgKjC--n"
      },
      "execution_count": null,
      "outputs": []
    },
    {
      "cell_type": "code",
      "source": [],
      "metadata": {
        "id": "Qw95V1BKC-4K"
      },
      "execution_count": null,
      "outputs": []
    }
  ]
}